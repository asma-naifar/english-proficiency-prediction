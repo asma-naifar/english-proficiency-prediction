{
 "cells": [
  {
   "cell_type": "markdown",
   "metadata": {},
   "source": [
    "# Pre-processing the NICT JLE dataset"
   ]
  },
  {
   "cell_type": "markdown",
   "metadata": {},
   "source": [
    "## TODO: explanation : regular expressions - used pattern for tags"
   ]
  },
  {
   "cell_type": "code",
   "execution_count": 6,
   "metadata": {},
   "outputs": [],
   "source": [
    "import re\n",
    "from os import listdir\n",
    "\n",
    "# This function allows you to retrieve all the lines that are between the \"B\" tag and remove the new line\n",
    "def generateCleanFile(filename):\n",
    "    input = open(\"NICT_JLE_4.1/LearnerOriginal/\" + filename, \"r\", encoding=\"latin1\") \n",
    "    output = open(\"preProcessedData/\" + filename, \"w\", encoding=\"latin1\")\n",
    "    lines = input.readlines()\n",
    "    for line in lines:\n",
    "        if '<B>' in line :\n",
    "            output.write(line[3:len(line)-5])\n",
    "            #output.write(line[3:len(line)-5])\n",
    "    input.close()\n",
    "    output.close() \n",
    "\n",
    "# This function allows each line of each file to delete all tags and their data\n",
    "def generateCleanline(filename):\n",
    "    input = open(\"preProcessedData/\" + filename, \"r\", encoding=\"latin1\")\n",
    "    output = open(\"preProcessedDataLine/\" + filename, \"w\", encoding=\"latin1\")\n",
    "    lines = input.readlines()\n",
    "    for line in lines:\n",
    "            content = removeAllInternalTags(line)\n",
    "            output.write(content.lower())\n",
    "    input.close()\n",
    "    output.close() \n",
    "\n",
    "\n",
    "def removeAllInternalTags(line):\n",
    "    pile = list()\n",
    "    pile = [(m.start(0), m.end(0)) for m in re.finditer(r'<(.*?)>', line)]\n",
    "\n",
    "    buffer = []\n",
    "    counter = 0\n",
    "    while len(pile) != 0:\n",
    "        if line[pile[counter][0]+1] == '/':\n",
    "            line = line[0:buffer[-1][0]] + line[pile[counter][1]:]\n",
    "            pile = [(m.start(0), m.end(0)) for m in re.finditer(r'<(.*?)>', line)]\n",
    "            counter = 0\n",
    "            buffer.pop()\n",
    "        else :\n",
    "            buffer.append(pile[counter])\n",
    "            counter+=1\n",
    "    return line\n",
    "\n",
    "# Keep only signaficant tags that will help with the prediction of the SST level of each participant \n",
    "# tags is the list of tags that the user wants to remove from the transcript \n",
    "def removeInternalTags(line, tags=[]):\n",
    "    for tag in tags:\n",
    "        doubleTagPattern = \"<\",tag,\">(.+?)</\",tag,\">\"\n",
    "        singleTagPattern = \"</?\",tag,\"*?>\"\n",
    "        line = re.sub(doubleTagPattern, \"\", line)\n",
    "        line = re.sub(singleTagPattern, \"\", line)\n",
    "    return re.sub(r\"\\s+\", \" \", line)\n",
    "\n",
    "\n",
    "files = [f for f in listdir(\"NICT_JLE_4.1/LearnerOriginal\")]\n",
    "\n",
    "for f in files:\n",
    "    generateCleanFile(f)\n",
    "    \n",
    "for f in files:\n",
    "    generateCleanline(f)\n"
   ]
  },
  {
   "cell_type": "markdown",
   "metadata": {},
   "source": [
    "# Processing the dataset: Bag of Words"
   ]
  },
  {
   "cell_type": "markdown",
   "metadata": {},
   "source": [
    "explanation : BoW algo - stopwords\n",
    "\n",
    "\n",
    "A bag-of-words is a representation of text that describes the occurrence of words within a document. It involves two things:\n",
    "\n",
    "    A vocabulary of known words.\n",
    "    A measure of the presence of known words.\n",
    "\n",
    "It is called a bag-of-words , because any information about the order or structure of words in the document is discarded. The model is only concerned with whether known words occur in the document, not where in the document. The complexity comes both in deciding how to design the vocabulary of known words (or tokens) and how to score the presence of known words."
   ]
  },
  {
   "cell_type": "markdown",
   "metadata": {},
   "source": [
    "#### Associate text file and score"
   ]
  },
  {
   "cell_type": "code",
   "execution_count": 2,
   "metadata": {},
   "outputs": [],
   "source": [
    "from os import listdir\n",
    "\n",
    "def extractScore(filename):\n",
    "    score = {}\n",
    "    input = open(\"NICT_JLE_4.1/LearnerOriginal/\" + filename, \"r\", encoding=\"latin1\") \n",
    "    lines = input.readlines()\n",
    "    for line in lines:\n",
    "        if '<SST_level>' in line :\n",
    "            score = line[11]\n",
    "            break\n",
    "    input.close()\n",
    "    return score\n",
    "\n",
    "files = [f for f in listdir(\"NICT_JLE_4.1/LearnerOriginal\")]\n",
    "\n",
    "textScoreList = dict()\n",
    "\n",
    "for f in files:\n",
    "    textScoreList[f] = extractScore(f)"
   ]
  },
  {
   "cell_type": "markdown",
   "metadata": {},
   "source": [
    "#### Create vocabulary \n",
    "\n",
    "As a first step, we create the function for generating the vocabulary "
   ]
  },
  {
   "cell_type": "code",
   "execution_count": 3,
   "metadata": {},
   "outputs": [],
   "source": [
    "from nltk.corpus import stopwords\n",
    "from os import listdir\n",
    "import numpy\n",
    "import re\n",
    "from sklearn.feature_extraction.text import CountVectorizer\n",
    "\n",
    "def createVectorizer(text):\n",
    "    vectorizer = CountVectorizer()\n",
    "    vectorizer.fit(text)\n",
    "    return vectorizer\n",
    "\n",
    "def word_extraction(sentence):    \n",
    "    ignore = set(stopwords.words('english')) \n",
    "    words = sentence.split()\n",
    "    cleaned_text = [w.lower() for w in words if w not in ignore] \n",
    "    return ' '.join(cleaned_text)\n",
    "    \n",
    "# def tokenize(sentences):    \n",
    "#     words = []    \n",
    "#     for sentence in sentences:        \n",
    "#         w = word_extraction(sentence)        \n",
    "#         words.extend(w)            \n",
    "#         words = sorted(list(set(words)))  \n",
    "#     return words"
   ]
  },
  {
   "cell_type": "markdown",
   "metadata": {},
   "source": [
    "#### Dividing database to training and testing sets randomly "
   ]
  },
  {
   "cell_type": "code",
   "execution_count": 4,
   "metadata": {},
   "outputs": [],
   "source": [
    "from random import shuffle\n",
    "from math import floor\n",
    "import os\n",
    "\n",
    "allFiles = os.listdir(\"preProcessedDataLine/\")\n",
    "\n",
    "# Randomize training data\n",
    "shuffle(allFiles)\n",
    "\n",
    "split = 0.6\n",
    "\n",
    "split_index = floor(len(allFiles) * split)\n",
    "trainingFiles = allFiles[:split_index]\n",
    "testingFiles = allFiles[split_index:]\n"
   ]
  },
  {
   "cell_type": "markdown",
   "metadata": {},
   "source": [
    "#### Creating vocab from training dataset"
   ]
  },
  {
   "cell_type": "code",
   "execution_count": 5,
   "metadata": {},
   "outputs": [],
   "source": [
    "trainingText = list()\n",
    "testingText = list()\n",
    "\n",
    "for trainingFile in trainingFiles:\n",
    "    trainingFileText = open(\"preProcessedDataLine/\" + trainingFile, \"r\", encoding=\"latin1\")\n",
    "    l = trainingFileText.readline()\n",
    "    trainingText.append(word_extraction(l))\n",
    "    trainingFileText.close()\n",
    "\n",
    "for testingFile in testingFiles:\n",
    "    testingFileText = open(\"preProcessedDataLine/\" + testingFile, \"r\", encoding=\"latin1\")\n",
    "    l = testingFileText.readline()\n",
    "    testingText.append(word_extraction(l))\n",
    "    testingFileText.close()\n",
    "\n",
    "vectorizer = createVectorizer(trainingText)\n",
    "\n",
    "trainingVector = vectorizer.transform(trainingText) \n",
    "testingVector = vectorizer.transform(testingText) \n",
    "\n",
    "trainingData = trainingVector.toarray() \n",
    "testingData = testingVector.toarray()\n"
   ]
  },
  {
   "cell_type": "markdown",
   "metadata": {},
   "source": [
    "#### Generate BoW vectors for training data "
   ]
  },
  {
   "cell_type": "code",
   "execution_count": 52,
   "metadata": {},
   "outputs": [],
   "source": [
    "import pandas as pd\n",
    "\n",
    "\n",
    "# dataframe for training data : inputs\n",
    "x_train = pd.DataFrame(trainingData, columns = sorted(vectorizer.vocabulary_))\n",
    "x_train.index = trainingFiles\n",
    "\n",
    "# dataframe for training data : scores\n",
    "y_train = pd.DataFrame([textScoreList[trainingFile] for trainingFile in trainingFiles], columns = [\"score\"])\n",
    "y_train.index = trainingFiles\n",
    "\n",
    "\n",
    "# dataframe for testing data : inputs\n",
    "x_test = pd.DataFrame(testingData, columns = sorted(vectorizer.vocabulary_))\n",
    "x_test.index = testingFiles\n",
    "\n",
    "# dataframe for testing data : scores\n",
    "y_test = pd.DataFrame([textScoreList[testingFile] for testingFile in testingFiles], columns = [\"score\"])\n",
    "y_test.index = testingFiles\n",
    "\n",
    "# remove columns that have more that 70% of values equal to zero\n",
    "#x_train = x_train.loc[:, (x_train==0).mean() < .7]\n",
    "#x_test = x_test[x_train.columns]"
   ]
  },
  {
   "cell_type": "markdown",
   "metadata": {},
   "source": [
    "# Training the classifier to Predict SST"
   ]
  },
  {
   "cell_type": "markdown",
   "metadata": {},
   "source": [
    "Explain the \"process\" of choosing a classifier "
   ]
  },
  {
   "cell_type": "code",
   "execution_count": 53,
   "metadata": {},
   "outputs": [
    {
     "name": "stdout",
     "output_type": "stream",
     "text": [
      "9746\n",
      "(768, 9746)\n",
      "(513, 9746)\n"
     ]
    }
   ],
   "source": [
    "print(len(sorted(vectorizer.vocabulary_)))\n",
    "print(x_train.shape)\n",
    "print(x_test.shape)"
   ]
  },
  {
   "cell_type": "code",
   "execution_count": 55,
   "metadata": {},
   "outputs": [
    {
     "name": "stdout",
     "output_type": "stream",
     "text": [
      "Naive Bayes Accuracy: 0.5087719298245614\n",
      "Logistic regression Accuracy: 0.5126705653021443\n",
      "SVC Accuracy: 0.5126705653021443\n"
     ]
    },
    {
     "name": "stderr",
     "output_type": "stream",
     "text": [
      "C:\\Users\\naifa\\AppData\\Local\\Programs\\Python\\Python39\\lib\\site-packages\\xgboost\\sklearn.py:1224: UserWarning: The use of label encoder in XGBClassifier is deprecated and will be removed in a future release. To remove this warning, do the following: 1) Pass option use_label_encoder=False when constructing XGBClassifier object; and 2) Encode your labels (y) as integers starting with 0, i.e. 0, 1, 2, ..., [num_class - 1].\n",
      "  warnings.warn(label_encoder_deprecation_msg, UserWarning)\n"
     ]
    },
    {
     "name": "stdout",
     "output_type": "stream",
     "text": [
      "[20:17:27] WARNING: C:/Users/Administrator/workspace/xgboost-win64_release_1.5.1/src/learner.cc:1115: Starting in XGBoost 1.3.0, the default evaluation metric used with the objective 'multi:softprob' was changed from 'merror' to 'mlogloss'. Explicitly set eval_metric if you'd like to restore the old behavior.\n",
      "XGBoost Accuracy: 0.5185185185185185\n"
     ]
    }
   ],
   "source": [
    "from sklearn.multioutput import MultiOutputClassifier\n",
    "from sklearn.naive_bayes import MultinomialNB\n",
    "from sklearn.linear_model import LogisticRegression\n",
    "from sklearn.svm import SVC\n",
    "from xgboost import XGBClassifier\n",
    "from sklearn.pipeline import Pipeline\n",
    "from sklearn import metrics\n",
    "#Initializing and fitting models on Training Data\n",
    "#Naive Bayes Model\n",
    "\n",
    "nb = MultiOutputClassifier(MultinomialNB()).fit(x_train, y_train)\n",
    "y_pred = nb.predict(x_test)\n",
    "print(\"Naive Bayes Accuracy:\",metrics.accuracy_score(y_test, y_pred))\n",
    "\n",
    "#Logistic Regression Model (As we have unbalanced dataset, we use class_weight which will use inverse of counts of that class. It penalizes mistakes in samples of class[i] with class_weight[i] instead of 1)\n",
    "lr = MultiOutputClassifier(LogisticRegression(class_weight='balanced', max_iter=3000)) \\\n",
    "                    .fit(x_train, y_train)\n",
    "y_pred = lr.predict(x_test)\n",
    "print(\"Logistic regression Accuracy:\",metrics.accuracy_score(y_test, y_pred))\n",
    "\n",
    "# SVC\n",
    "svc = SVC(gamma=\"scale\")\n",
    "model = MultiOutputClassifier(estimator=svc)\n",
    "model.fit(x_train, y_train)\n",
    "\n",
    "y_pred = lr.predict(x_test)\n",
    "print(\"SVC Accuracy:\",metrics.accuracy_score(y_test, y_pred))\n",
    "\n",
    "\n",
    "# XGBoost\n",
    "classifier = MultiOutputClassifier(XGBClassifier())\n",
    "clf = Pipeline([('classify', classifier)])\n",
    "clf.fit(x_train, y_train)\n",
    "\n",
    "y_pred = clf.predict(x_test)\n",
    "print(\"XGBoost Accuracy:\",metrics.accuracy_score(y_test, y_pred))"
   ]
  },
  {
   "cell_type": "markdown",
   "metadata": {},
   "source": [
    "# Accuracy and Confusion matrix"
   ]
  },
  {
   "cell_type": "code",
   "execution_count": 68,
   "metadata": {},
   "outputs": [
    {
     "data": {
      "image/png": "[encoded data removed]",
      "text/plain": [
       "<Figure size 720x504 with 2 Axes>"
      ]
     },
     "metadata": {},
     "output_type": "display_data"
    }
   ],
   "source": [
    "from sklearn.metrics import confusion_matrix\n",
    "import seaborn as sn\n",
    "import pandas as pd\n",
    "import matplotlib.pyplot as plt\n",
    "\n",
    "\n",
    "cm_y1 = confusion_matrix(y_test,y_pred)\n",
    "plt.figure(figsize=(10,7))\n",
    "sn.set(font_scale=2) # for label size\n",
    "sn.heatmap(cm_y1, annot=True, annot_kws={\"size\": 12}) # font size\n",
    "\n",
    "plt.show()"
   ]
  },
  {
   "cell_type": "code",
   "execution_count": null,
   "metadata": {},
   "outputs": [],
   "source": [
    "from keras import models\n",
    "from keras import layers\n",
    "\n",
    "model = models.Sequential()\n",
    "\n",
    "model.add(layers.Dense(50, activation='relu', input_shape=(len(x_train.columns),)))\n",
    "model.add(layers.Dense(25, activation='relu'))\n",
    "model.add(layers.Dense(9, activation='sigmoid'))\n",
    "\n",
    "model.compile(optimizer='adam',\n",
    "              loss='binary_crossentropy',\n",
    "              metrics=['accuracy'])\n",
    "\n",
    "history = model.fit(x_train, y_train,epochs=100, batch_size=512, validation_data=(x_test, y_test))"
   ]
  }
 ],
 "metadata": {
  "interpreter": {
   "hash": "f4ee4038f3ce1aaa32f3129e506029845ba1ff8163a79a51eba3ccd17ed5d0cd"
  },
  "kernelspec": {
   "display_name": "Python 3.9.7 64-bit",
   "name": "python3"
  },
  "language_info": {
   "codemirror_mode": {
    "name": "ipython",
    "version": 3
   },
   "file_extension": ".py",
   "mimetype": "text/x-python",
   "name": "python",
   "nbconvert_exporter": "python",
   "pygments_lexer": "ipython3",
   "version": "3.9.7"
  },
  "orig_nbformat": 4
 },
 "nbformat": 4,
 "nbformat_minor": 2
}
