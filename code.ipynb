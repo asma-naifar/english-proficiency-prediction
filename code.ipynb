{
 "cells": [
  {
   "cell_type": "markdown",
   "metadata": {},
   "source": [
    "Pre-processing the NICT JLE dataset"
   ]
  },
  {
   "cell_type": "code",
   "execution_count": 47,
   "metadata": {},
   "outputs": [],
   "source": [
    "import re\n",
    "from os import listdir\n",
    "\n",
    "\n",
    "def generateCleanFile(filename):\n",
    "    input = open(\"NICT_JLE_4.1/LearnerOriginal/\" + filename, \"r\", encoding=\"latin1\") \n",
    "    output = open(\"preProcessedData/\" + filename, \"w\", encoding=\"latin1\")\n",
    "    lines = input.readlines()\n",
    "    for line in lines:\n",
    "        if '<B>' in line :\n",
    "            output.write(removeInternalTags(line[3:len(line)-5])+\"\\n\")\n",
    "    input.close()\n",
    "    output.close() \n",
    "\n",
    "def removeInternalTags(line):\n",
    "    doubleTagPattern = \"<.*?>(.+?)</.*?>\"\n",
    "    singleTagPattern = \"</?.*?>\"\n",
    "    line = re.sub(doubleTagPattern, \"\", line)\n",
    "    line = re.sub(singleTagPattern, \"\", line)\n",
    "    return re.sub(r\"\\s+\", \" \", line)\n",
    "\n",
    "files = [f for f in listdir(\"NICT_JLE_4.1/LearnerOriginal\")]\n",
    "\n",
    "for f in files:\n",
    "    generateCleanFile(f)\n"
   ]
  },
  {
   "cell_type": "markdown",
   "metadata": {},
   "source": [
    "Processing the dataset: extract features with the Bag of Word"
   ]
  },
  {
   "cell_type": "markdown",
   "metadata": {},
   "source": [
    "Training the classifier to Predict SST"
   ]
  },
  {
   "cell_type": "markdown",
   "metadata": {},
   "source": [
    "Accuracy and Confusion matrix"
   ]
  }
 ],
 "metadata": {
  "interpreter": {
   "hash": "f4ee4038f3ce1aaa32f3129e506029845ba1ff8163a79a51eba3ccd17ed5d0cd"
  },
  "kernelspec": {
   "display_name": "Python 3.9.7 64-bit",
   "name": "python3"
  },
  "language_info": {
   "codemirror_mode": {
    "name": "ipython",
    "version": 3
   },
   "file_extension": ".py",
   "mimetype": "text/x-python",
   "name": "python",
   "nbconvert_exporter": "python",
   "pygments_lexer": "ipython3",
   "version": "3.9.7"
  },
  "orig_nbformat": 4
 },
 "nbformat": 4,
 "nbformat_minor": 2
}
