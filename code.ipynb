{
 "cells": [
  {
   "cell_type": "markdown",
   "metadata": {},
   "source": [
    "# Pre-processing the NICT JLE dataset"
   ]
  },
  {
   "cell_type": "markdown",
   "metadata": {},
   "source": [
    "#### TODO: explanation : regular expressions - used pattern for tags"
   ]
  },
  {
   "cell_type": "code",
   "execution_count": null,
   "metadata": {},
   "outputs": [],
   "source": [
    "import re\n",
    "from os import listdir\n",
    "\n",
    "# This function allows you to retrieve all the lines that are between the \"B\" tag and remove the new line\n",
    "def generateCleanFile(filename):\n",
    "    input = open(\"NICT_JLE_4.1/LearnerOriginal/\" + filename, \"r\", encoding=\"latin1\") \n",
    "    output = open(\"preProcessedData/\" + filename, \"w\", encoding=\"latin1\")\n",
    "    lines = input.readlines()\n",
    "    for line in lines:\n",
    "        if '<B>' in line :\n",
    "            output.write(line[3:len(line)-5])\n",
    "            #output.write(line[3:len(line)-5])\n",
    "    input.close()\n",
    "    output.close() \n",
    "\n",
    "# This function allows each line of each file to delete all tags and their data\n",
    "def generateCleanline(filename):\n",
    "    input = open(\"preProcessedData/\" + filename, \"r\", encoding=\"latin1\")\n",
    "    output = open(\"preProcessedDataLine/\" + filename, \"w\", encoding=\"latin1\")\n",
    "    lines = input.readlines()\n",
    "    for line in lines:\n",
    "            content = removeAllInternalTags(line)\n",
    "            output.write(content.lower())\n",
    "    input.close()\n",
    "    output.close() \n",
    "\n",
    "\n",
    "def removeAllInternalTags(line):\n",
    "    pile = list()\n",
    "    pile = [(m.start(0), m.end(0)) for m in re.finditer(r'<(.*?)>', line)]\n",
    "\n",
    "    buffer = []\n",
    "    counter = 0\n",
    "    while len(pile) != 0:\n",
    "        if line[pile[counter][0]+1] == '/':\n",
    "            line = line[0:buffer[-1][0]] + line[pile[counter][1]:]\n",
    "            pile = [(m.start(0), m.end(0)) for m in re.finditer(r'<(.*?)>', line)]\n",
    "            counter = 0\n",
    "            buffer.pop()\n",
    "        else :\n",
    "            buffer.append(pile[counter])\n",
    "            counter+=1\n",
    "    return line\n",
    "\n",
    "# Keep only signaficant tags that will help with the prediction of the SST level of each participant \n",
    "# tags is the list of tags that the user wants to remove from the transcript \n",
    "def removeInternalTags(line, tags=[]):\n",
    "    for tag in tags:\n",
    "        doubleTagPattern = \"<\",tag,\">(.+?)</\",tag,\">\"\n",
    "        singleTagPattern = \"</?\",tag,\"*?>\"\n",
    "        line = re.sub(doubleTagPattern, \"\", line)\n",
    "        line = re.sub(singleTagPattern, \"\", line)\n",
    "    return re.sub(r\"\\s+\", \" \", line)\n",
    "\n",
    "\n",
    "files = [f for f in listdir(\"NICT_JLE_4.1/LearnerOriginal\")]\n",
    "\n",
    "for f in files:\n",
    "    generateCleanFile(f)\n",
    "    \n",
    "for f in files:\n",
    "    generateCleanline(f)\n"
   ]
  },
  {
   "cell_type": "markdown",
   "metadata": {},
   "source": [
    "# Processing the dataset: Bag of Words"
   ]
  },
  {
   "cell_type": "markdown",
   "metadata": {},
   "source": [
    "explanation : BoW algo - stopwords\n",
    "\n",
    "\n",
    "A bag-of-words is a representation of text that describes the occurrence of words within a document. It involves two things:\n",
    "\n",
    "    A vocabulary of known words.\n",
    "    A measure of the presence of known words.\n",
    "\n",
    "It is called a bag-of-words , because any information about the order or structure of words in the document is discarded. The model is only concerned with whether known words occur in the document, not where in the document. The complexity comes both in deciding how to design the vocabulary of known words (or tokens) and how to score the presence of known words."
   ]
  },
  {
   "cell_type": "markdown",
   "metadata": {},
   "source": [
    "#### Associate text file and score"
   ]
  },
  {
   "cell_type": "code",
   "execution_count": 2,
   "metadata": {},
   "outputs": [],
   "source": [
    "from os import listdir\n",
    "\n",
    "def extractScore(filename):\n",
    "    score = {}\n",
    "    input = open(\"NICT_JLE_4.1/LearnerOriginal/\" + filename, \"r\", encoding=\"latin1\") \n",
    "    lines = input.readlines()\n",
    "    for line in lines:\n",
    "        if '<SST_level>' in line :\n",
    "            score = line[11]\n",
    "            break\n",
    "    input.close()\n",
    "    return score\n",
    "\n",
    "files = [f for f in listdir(\"NICT_JLE_4.1/LearnerOriginal\")]\n",
    "\n",
    "textScoreList = dict()\n",
    "\n",
    "for f in files:\n",
    "    textScoreList[f] = extractScore(f)"
   ]
  },
  {
   "cell_type": "markdown",
   "metadata": {},
   "source": [
    "#### Create vocabulary \n",
    "\n",
    "As a first step, we create the function for generating the vocabulary "
   ]
  },
  {
   "cell_type": "code",
   "execution_count": 3,
   "metadata": {},
   "outputs": [],
   "source": [
    "from nltk.corpus import stopwords\n",
    "from os import listdir\n",
    "import numpy\n",
    "import re\n",
    "from sklearn.feature_extraction.text import CountVectorizer\n",
    "\n",
    "def createVectorizer(text):\n",
    "    vectorizer = CountVectorizer()\n",
    "    vectorizer.fit(text)\n",
    "    return vectorizer\n",
    "\n",
    "def word_extraction(sentence):    \n",
    "    ignore = set(stopwords.words('english')) \n",
    "    words = sentence.split()\n",
    "    cleaned_text = [w.lower() for w in words if w not in ignore] \n",
    "    clean = ' '.join(cleaned_text)\n",
    "    clean = re.sub(r\"\"\"\n",
    "            [,.;@#?!&$]+ \n",
    "            \\ *           \n",
    "            \"\"\",\n",
    "            \" \",          \n",
    "            clean, flags=re.VERBOSE)\n",
    "    return clean\n",
    "    "
   ]
  },
  {
   "cell_type": "markdown",
   "metadata": {},
   "source": [
    "#### Dividing database to training and testing sets randomly "
   ]
  },
  {
   "cell_type": "code",
   "execution_count": 18,
   "metadata": {},
   "outputs": [],
   "source": [
    "from random import shuffle\n",
    "from math import floor\n",
    "import os\n",
    "\n",
    "allFiles = os.listdir(\"preProcessedDataLine/\")\n",
    "\n",
    "# Randomize training data\n",
    "shuffle(allFiles)\n",
    "\n",
    "split = 0.7\n",
    "\n",
    "split_index = floor(len(allFiles) * split)\n",
    "trainingFiles = allFiles[:split_index]\n",
    "testingFiles = allFiles[split_index:]\n"
   ]
  },
  {
   "cell_type": "markdown",
   "metadata": {},
   "source": [
    "#### Creating vocab from training dataset"
   ]
  },
  {
   "cell_type": "code",
   "execution_count": 19,
   "metadata": {},
   "outputs": [],
   "source": [
    "trainingText = list()\n",
    "testingText = list()\n",
    "\n",
    "for trainingFile in trainingFiles:\n",
    "    trainingFileText = open(\"preProcessedDataLine/\" + trainingFile, \"r\", encoding=\"latin1\")\n",
    "    l = trainingFileText.readline()\n",
    "    trainingText.append(word_extraction(l))\n",
    "    trainingFileText.close()\n",
    "\n",
    "for testingFile in testingFiles:\n",
    "    testingFileText = open(\"preProcessedDataLine/\" + testingFile, \"r\", encoding=\"latin1\")\n",
    "    l = testingFileText.readline()\n",
    "    testingText.append(word_extraction(l))\n",
    "    testingFileText.close()\n",
    "\n",
    "vectorizer = createVectorizer(trainingText)\n",
    "\n",
    "trainingVector = vectorizer.transform(trainingText) \n",
    "testingVector = vectorizer.transform(testingText) \n",
    "\n",
    "trainingData = trainingVector.toarray() \n",
    "testingData = testingVector.toarray()"
   ]
  },
  {
   "cell_type": "markdown",
   "metadata": {},
   "source": [
    "#### Generate BoW vectors for training data "
   ]
  },
  {
   "cell_type": "code",
   "execution_count": 20,
   "metadata": {},
   "outputs": [],
   "source": [
    "import pandas as pd\n",
    "\n",
    "\n",
    "# dataframe for training data : inputs\n",
    "x_train = pd.DataFrame(trainingData, columns = sorted(vectorizer.vocabulary_))\n",
    "x_train.index = trainingFiles\n",
    "\n",
    "# dataframe for training data : scores\n",
    "y_train = pd.DataFrame([textScoreList[trainingFile] for trainingFile in trainingFiles], columns = [\"score\"])\n",
    "y_train.index = trainingFiles\n",
    "\n",
    "\n",
    "# dataframe for testing data : inputs\n",
    "x_test = pd.DataFrame(testingData, columns = sorted(vectorizer.vocabulary_))\n",
    "x_test.index = testingFiles\n",
    "\n",
    "# dataframe for testing data : scores\n",
    "y_test = pd.DataFrame([textScoreList[testingFile] for testingFile in testingFiles], columns = [\"score\"])\n",
    "y_test.index = testingFiles\n",
    "\n",
    "# remove columns that have more that 70% of values equal to zero\n",
    "#x_train = x_train.loc[:, (x_train==0).mean() < .7]\n",
    "#x_test = x_test[x_train.columns]\n"
   ]
  },
  {
   "cell_type": "markdown",
   "metadata": {},
   "source": [
    "# Training the classifier to Predict SST"
   ]
  },
  {
   "cell_type": "markdown",
   "metadata": {},
   "source": [
    "#### Classifiers and their corresponding accuracy and confusion matrix"
   ]
  },
  {
   "cell_type": "code",
   "execution_count": 21,
   "metadata": {},
   "outputs": [
    {
     "name": "stdout",
     "output_type": "stream",
     "text": [
      "Vocabulary size 10636\n",
      "Training data size (896, 10636)\n",
      "testing data size (385, 10636)\n"
     ]
    }
   ],
   "source": [
    "print(\"Vocabulary size\",len(sorted(vectorizer.vocabulary_)))\n",
    "print(\"Training data size\",x_train.shape)\n",
    "print(\"testing data size\",x_test.shape)"
   ]
  },
  {
   "cell_type": "code",
   "execution_count": 22,
   "metadata": {},
   "outputs": [],
   "source": [
    "from sklearn.metrics import confusion_matrix\n",
    "import seaborn as sn\n",
    "import pandas as pd\n",
    "import matplotlib.pyplot as plt\n",
    "\n",
    "def conf_matrix(name,y_test,y_pred):\n",
    "    cm_y1 = confusion_matrix(y_test,y_pred)\n",
    "    plt.figure(figsize=(10,7))\n",
    "    sn.set(font_scale=2) # for label size\n",
    "    sn.heatmap(cm_y1, annot=True, annot_kws={\"size\": 12}) # font size\n",
    "    plt.title(name)\n",
    "    plt.show()"
   ]
  },
  {
   "cell_type": "code",
   "execution_count": 23,
   "metadata": {},
   "outputs": [
    {
     "name": "stdout",
     "output_type": "stream",
     "text": [
      "Naive Bayes Accuracy: 0.509090909090909\n"
     ]
    },
    {
     "data": {
      "image/png": "[encoded data removed]",
      "text/plain": [
       "<Figure size 720x504 with 2 Axes>"
      ]
     },
     "metadata": {},
     "output_type": "display_data"
    },
    {
     "name": "stdout",
     "output_type": "stream",
     "text": [
      "Logistic regression Accuracy: 0.509090909090909\n"
     ]
    },
    {
     "data": {
      "image/png": "[encoded data removed]",
      "text/plain": [
       "<Figure size 720x504 with 2 Axes>"
      ]
     },
     "metadata": {},
     "output_type": "display_data"
    },
    {
     "name": "stdout",
     "output_type": "stream",
     "text": [
      "SVC Accuracy: 0.509090909090909\n"
     ]
    },
    {
     "data": {
      "image/png": "[encoded data removed]",
      "text/plain": [
       "<Figure size 720x504 with 2 Axes>"
      ]
     },
     "metadata": {},
     "output_type": "display_data"
    },
    {
     "name": "stderr",
     "output_type": "stream",
     "text": [
      "C:\\Users\\naifa\\AppData\\Local\\Programs\\Python\\Python39\\lib\\site-packages\\xgboost\\sklearn.py:1224: UserWarning: The use of label encoder in XGBClassifier is deprecated and will be removed in a future release. To remove this warning, do the following: 1) Pass option use_label_encoder=False when constructing XGBClassifier object; and 2) Encode your labels (y) as integers starting with 0, i.e. 0, 1, 2, ..., [num_class - 1].\n",
      "  warnings.warn(label_encoder_deprecation_msg, UserWarning)\n"
     ]
    },
    {
     "name": "stdout",
     "output_type": "stream",
     "text": [
      "[10:01:46] WARNING: C:/Users/Administrator/workspace/xgboost-win64_release_1.5.1/src/learner.cc:1115: Starting in XGBoost 1.3.0, the default evaluation metric used with the objective 'multi:softprob' was changed from 'merror' to 'mlogloss'. Explicitly set eval_metric if you'd like to restore the old behavior.\n",
      "XGBoost Accuracy: 0.5246753246753246\n"
     ]
    },
    {
     "data": {
      "image/png": "[encoded data removed]",
      "text/plain": [
       "<Figure size 720x504 with 2 Axes>"
      ]
     },
     "metadata": {},
     "output_type": "display_data"
    }
   ],
   "source": [
    "from sklearn.multioutput import MultiOutputClassifier\n",
    "from sklearn.naive_bayes import MultinomialNB\n",
    "from sklearn.linear_model import LogisticRegression\n",
    "from sklearn.svm import SVC\n",
    "from xgboost import XGBClassifier\n",
    "from sklearn.pipeline import Pipeline\n",
    "from sklearn import metrics\n",
    "\n",
    "\n",
    "#Naive Bayes Model\n",
    "nb = MultiOutputClassifier(MultinomialNB()).fit(x_train, y_train)\n",
    "y_pred = nb.predict(x_test)\n",
    "print(\"Naive Bayes Accuracy:\",metrics.accuracy_score(y_test, y_pred))\n",
    "conf_matrix(\"Naive Bayes\", y_test, y_pred)\n",
    "\n",
    "#Logistic Regression Model (As we have unbalanced dataset, we use class_weight which will use inverse of counts of that class. It penalizes mistakes in samples of class[i] with class_weight[i] instead of 1)\n",
    "lr = MultiOutputClassifier(LogisticRegression(class_weight='balanced', max_iter=3000)) \\\n",
    "                    .fit(x_train, y_train)\n",
    "y_pred = lr.predict(x_test)\n",
    "print(\"Logistic regression Accuracy:\",metrics.accuracy_score(y_test, y_pred))\n",
    "conf_matrix(\"Logistic regression\", y_test, y_pred)\n",
    "\n",
    "# SVC\n",
    "svc = SVC(gamma=\"scale\")\n",
    "model = MultiOutputClassifier(estimator=svc)\n",
    "model.fit(x_train, y_train)\n",
    "\n",
    "y_pred = lr.predict(x_test)\n",
    "print(\"SVC Accuracy:\",metrics.accuracy_score(y_test, y_pred))\n",
    "conf_matrix(\"SVC\", y_test, y_pred)\n",
    "\n",
    "# XGBoost\n",
    "classifier = MultiOutputClassifier(XGBClassifier())\n",
    "clf = Pipeline([('classify', classifier)])\n",
    "clf.fit(x_train, y_train)\n",
    "\n",
    "y_pred = clf.predict(x_test)\n",
    "print(\"XGBoost Accuracy:\",metrics.accuracy_score(y_test, y_pred))\n",
    "conf_matrix(\"XGBoost\", y_test, y_pred)"
   ]
  },
  {
   "cell_type": "markdown",
   "metadata": {},
   "source": [
    "## Neural Network with Keras "
   ]
  },
  {
   "cell_type": "code",
   "execution_count": 31,
   "metadata": {},
   "outputs": [
    {
     "name": "stdout",
     "output_type": "stream",
     "text": [
      "Model: \"sequential_6\"\n",
      "_________________________________________________________________\n",
      " Layer (type)                Output Shape              Param #   \n",
      "=================================================================\n",
      " dense_18 (Dense)            (None, 32)                340384    \n",
      "                                                                 \n",
      " dense_19 (Dense)            (None, 16)                528       \n",
      "                                                                 \n",
      " dense_20 (Dense)            (None, 9)                 153       \n",
      "                                                                 \n",
      "=================================================================\n",
      "Total params: 341,065\n",
      "Trainable params: 341,065\n",
      "Non-trainable params: 0\n",
      "_________________________________________________________________\n",
      "Epoch 1/40\n",
      "28/28 [==============================] - 1s 8ms/step - loss: 1.9118 - accuracy: 0.1373\n",
      "Epoch 2/40\n",
      "28/28 [==============================] - 0s 9ms/step - loss: 1.5201 - accuracy: 0.4799\n",
      "Epoch 3/40\n",
      "28/28 [==============================] - 0s 10ms/step - loss: 1.1534 - accuracy: 0.6127\n",
      "Epoch 4/40\n",
      "28/28 [==============================] - 0s 9ms/step - loss: 0.7369 - accuracy: 0.7757\n",
      "Epoch 5/40\n",
      "28/28 [==============================] - 0s 9ms/step - loss: 0.4040 - accuracy: 0.8929\n",
      "Epoch 6/40\n",
      "28/28 [==============================] - 0s 9ms/step - loss: 0.2085 - accuracy: 0.9342\n",
      "Epoch 7/40\n",
      "28/28 [==============================] - 0s 9ms/step - loss: 0.1211 - accuracy: 0.9397\n",
      "Epoch 8/40\n",
      "28/28 [==============================] - 0s 8ms/step - loss: 0.0806 - accuracy: 0.9509\n",
      "Epoch 9/40\n",
      "28/28 [==============================] - 0s 9ms/step - loss: 0.0570 - accuracy: 0.9587\n",
      "Epoch 10/40\n",
      "28/28 [==============================] - 0s 8ms/step - loss: 0.0435 - accuracy: 0.9621\n",
      "Epoch 11/40\n",
      "28/28 [==============================] - 0s 9ms/step - loss: 0.0326 - accuracy: 0.9632\n",
      "Epoch 12/40\n",
      "28/28 [==============================] - 0s 8ms/step - loss: 0.0254 - accuracy: 0.9632\n",
      "Epoch 13/40\n",
      "28/28 [==============================] - 0s 9ms/step - loss: 0.0223 - accuracy: 0.9632\n",
      "Epoch 14/40\n",
      "28/28 [==============================] - 0s 8ms/step - loss: 0.0187 - accuracy: 0.9632\n",
      "Epoch 15/40\n",
      "28/28 [==============================] - 0s 8ms/step - loss: 0.0297 - accuracy: 0.9598: 0s - loss: 0.0173 - accuracy: \n",
      "Epoch 16/40\n",
      "28/28 [==============================] - 0s 8ms/step - loss: 0.0475 - accuracy: 0.9542\n",
      "Epoch 17/40\n",
      "28/28 [==============================] - 0s 8ms/step - loss: 0.1011 - accuracy: 0.9375\n",
      "Epoch 18/40\n",
      "28/28 [==============================] - 0s 9ms/step - loss: 0.0577 - accuracy: 0.9498\n",
      "Epoch 19/40\n",
      "28/28 [==============================] - 0s 9ms/step - loss: 0.3517 - accuracy: 0.8839\n",
      "Epoch 20/40\n",
      "28/28 [==============================] - 0s 9ms/step - loss: 0.8660 - accuracy: 0.7656\n",
      "Epoch 21/40\n",
      "28/28 [==============================] - 0s 8ms/step - loss: 0.6068 - accuracy: 0.8482\n",
      "Epoch 22/40\n",
      "28/28 [==============================] - 0s 9ms/step - loss: 0.1898 - accuracy: 0.9051\n",
      "Epoch 23/40\n",
      "28/28 [==============================] - 0s 11ms/step - loss: 0.2466 - accuracy: 0.9208\n",
      "Epoch 24/40\n",
      "28/28 [==============================] - 0s 7ms/step - loss: 0.5259 - accuracy: 0.8326\n",
      "Epoch 25/40\n",
      "28/28 [==============================] - 0s 9ms/step - loss: 0.4296 - accuracy: 0.8772\n",
      "Epoch 26/40\n",
      "28/28 [==============================] - 0s 8ms/step - loss: 1.0021 - accuracy: 0.8739\n",
      "Epoch 27/40\n",
      "28/28 [==============================] - 0s 8ms/step - loss: 1.3633 - accuracy: 0.8382\n",
      "Epoch 28/40\n",
      "28/28 [==============================] - 0s 9ms/step - loss: 0.5770 - accuracy: 0.8772\n",
      "Epoch 29/40\n",
      "28/28 [==============================] - 0s 9ms/step - loss: 0.5587 - accuracy: 0.8772\n",
      "Epoch 30/40\n",
      "28/28 [==============================] - 0s 9ms/step - loss: 0.6348 - accuracy: 0.8772\n",
      "Epoch 31/40\n",
      "28/28 [==============================] - 0s 9ms/step - loss: 0.3945 - accuracy: 0.9007\n",
      "Epoch 32/40\n",
      "28/28 [==============================] - 0s 9ms/step - loss: 0.1986 - accuracy: 0.9364\n",
      "Epoch 33/40\n",
      "28/28 [==============================] - 0s 8ms/step - loss: 1.2063 - accuracy: 0.8850\n",
      "Epoch 34/40\n",
      "28/28 [==============================] - 0s 9ms/step - loss: 2.7097 - accuracy: 0.7589\n",
      "Epoch 35/40\n",
      "28/28 [==============================] - 0s 8ms/step - loss: 8.6466 - accuracy: 0.5692\n",
      "Epoch 36/40\n",
      "28/28 [==============================] - 0s 9ms/step - loss: 3.4759 - accuracy: 0.7578\n",
      "Epoch 37/40\n",
      "28/28 [==============================] - 0s 8ms/step - loss: 0.5847 - accuracy: 0.9163\n",
      "Epoch 38/40\n",
      "28/28 [==============================] - 0s 9ms/step - loss: 0.3033 - accuracy: 0.9386\n",
      "Epoch 39/40\n",
      "28/28 [==============================] - 0s 8ms/step - loss: 1.3391 - accuracy: 0.8571\n",
      "Epoch 40/40\n",
      "28/28 [==============================] - 0s 9ms/step - loss: 1.4831 - accuracy: 0.8114\n",
      "13/13 - 0s - loss: 13.3771 - accuracy: 0.4286 - 184ms/epoch - 14ms/step\n"
     ]
    }
   ],
   "source": [
    "from keras import models\n",
    "from keras import layers\n",
    "import tensorflow as tf\n",
    "\n",
    "model = models.Sequential()\n",
    "model.add(layers.Dense(32, activation='relu', input_shape=(len(x_train.columns),)))\n",
    "model.add(layers.Dense(16, activation='relu'))\n",
    "model.add(layers.Dense(9, activation='softmax'))\n",
    "\n",
    "model.compile(optimizer='adam',\n",
    "              loss='categorical_crossentropy',\n",
    "              metrics=['accuracy'])\n",
    "\n",
    "model.summary()\n",
    "\n",
    "train_labels = tf.one_hot(y_train['score'], depth=9)\n",
    "test_labels = tf.one_hot(y_test['score'], depth=9)\n",
    "\n",
    "X_train = x_train.to_numpy()\n",
    "X_test = x_test.to_numpy()\n",
    "\n",
    "history = model.fit(X_train, train_labels, epochs=40)\n",
    "model.evaluate(X_test,  test_labels, verbose=2)\n",
    "\n",
    "predictions = model.predict(X_test)"
   ]
  },
  {
   "cell_type": "markdown",
   "metadata": {},
   "source": [
    "# Alternative Data processing "
   ]
  },
  {
   "cell_type": "markdown",
   "metadata": {},
   "source": [
    "### word2vec"
   ]
  },
  {
   "cell_type": "markdown",
   "metadata": {},
   "source": [
    "Since word2vec training is unsupervised, we can use the entirety of the dataset to train the word2vec model."
   ]
  },
  {
   "cell_type": "code",
   "execution_count": 62,
   "metadata": {},
   "outputs": [
    {
     "name": "stdout",
     "output_type": "stream",
     "text": [
      "Word2Vec(vocab=1198, vector_size=300, alpha=0.025)\n"
     ]
    }
   ],
   "source": [
    "from gensim.models import Word2Vec\n",
    "\n",
    "\n",
    "files = [f for f in listdir(\"preProcessedDataLine/\")]\n",
    "full_list = list()\n",
    "\n",
    "for f in files:\n",
    "    input = open(\"preProcessedDataLine/\" + f, \"r\", encoding=\"latin1\")\n",
    "    full_list.append(word_extraction(input.readline()).split())\n",
    "\n",
    "word2vec = Word2Vec(full_list, seed=1,\n",
    "                    vector_size =300,\n",
    "                    min_count=50,\n",
    "                    window=30)\n",
    "# summarize the loaded model\n",
    "print(word2vec)\n",
    "# summarize vocabulary\n",
    "words = list(word2vec.wv.index_to_key)\n"
   ]
  },
  {
   "cell_type": "code",
   "execution_count": 63,
   "metadata": {},
   "outputs": [
    {
     "name": "stderr",
     "output_type": "stream",
     "text": [
      "[nltk_data] Downloading package punkt to\n",
      "[nltk_data]     C:\\Users\\naifa\\AppData\\Roaming\\nltk_data...\n",
      "[nltk_data]   Package punkt is already up-to-date!\n"
     ]
    }
   ],
   "source": [
    "import nltk \n",
    "import numpy as np\n",
    "nltk.download('punkt')\n",
    "\n",
    "class MyTokenizer:\n",
    "    def __init__(self):\n",
    "        pass\n",
    "    \n",
    "    def fit(self, X, y=None):\n",
    "        return self\n",
    "    \n",
    "    def transform(self, X):\n",
    "        transformed_X = []\n",
    "        for document in X:\n",
    "            tokenized_doc = []\n",
    "            for sent in nltk.sent_tokenize(document):\n",
    "                tokenized_doc += nltk.word_tokenize(sent)\n",
    "            transformed_X.append(np.array(tokenized_doc))\n",
    "        return np.array(transformed_X)\n",
    "    \n",
    "    def fit_transform(self, X, y=None):\n",
    "        return self.transform(X)\n",
    "\n",
    "class MeanEmbeddingVectorizer(object):\n",
    "    def __init__(self, word2vec):\n",
    "        self.word2vec = word2vec\n",
    "        # if a text is empty we should return a vector of zeros\n",
    "        # with the same dimensionality as all the other vectors\n",
    "        self.dim = len(list(word2vec.wv.index_to_key))\n",
    "\n",
    "    def fit(self, X, y=None):\n",
    "        return self\n",
    "\n",
    "    def transform(self, X):\n",
    "        X = MyTokenizer().fit_transform(X)\n",
    "        \n",
    "        return np.array([\n",
    "            np.mean([self.word2vec.wv[w] for w in words if w in self.word2vec.wv]\n",
    "                    or [np.zeros(self.dim)], axis=0)\n",
    "            for words in X\n",
    "        ])\n",
    "    \n",
    "    def fit_transform(self, X, y=None):\n",
    "        return self.transform(X)\n"
   ]
  },
  {
   "cell_type": "code",
   "execution_count": 68,
   "metadata": {},
   "outputs": [],
   "source": [
    "from sklearn.model_selection import cross_val_predict\n",
    "from sklearn.model_selection import StratifiedKFold\n",
    "from sklearn.metrics import log_loss, accuracy_score\n",
    "import scikitplot.plotters as skplt\n",
    "from sklearn.ensemble import RandomForestClassifier\n",
    "\n",
    "def evaluate_features(X, y, clf=None):\n",
    "    if clf is None:\n",
    "        clf = LogisticRegression(class_weight='balanced', max_iter=3000)\n",
    "    \n",
    "    probas = cross_val_predict(clf, X, y, cv=StratifiedKFold(), \n",
    "                              n_jobs=-1, method='predict_proba', verbose=2)\n",
    "    pred_indices = np.argmax(probas, axis=1)\n",
    "    classes = np.unique(y)\n",
    "    preds = classes[pred_indices]\n",
    "    print('Log loss: {}'.format(log_loss(y, probas)))\n",
    "    print('Accuracy: {}'.format(accuracy_score(y, preds)))\n",
    "    skplt.plot_confusion_matrix(y, preds)"
   ]
  },
  {
   "cell_type": "code",
   "execution_count": 69,
   "metadata": {},
   "outputs": [
    {
     "name": "stderr",
     "output_type": "stream",
     "text": [
      "C:\\Users\\naifa\\AppData\\Local\\Temp/ipykernel_18836/2256991548.py:19: VisibleDeprecationWarning: Creating an ndarray from ragged nested sequences (which is a list-or-tuple of lists-or-tuples-or ndarrays with different lengths or shapes) is deprecated. If you meant to do this, you must specify 'dtype=object' when creating the ndarray.\n",
      "  return np.array(transformed_X)\n",
      "C:\\Users\\naifa\\AppData\\Local\\Programs\\Python\\Python39\\lib\\site-packages\\sklearn\\model_selection\\_split.py:676: UserWarning: The least populated class in y has only 3 members, which is less than n_splits=5.\n",
      "  warnings.warn(\n",
      "[Parallel(n_jobs=-1)]: Using backend LokyBackend with 4 concurrent workers.\n",
      "[Parallel(n_jobs=-1)]: Done   5 out of   5 | elapsed:    1.0s finished\n",
      "C:\\Users\\naifa\\AppData\\Local\\Programs\\Python\\Python39\\lib\\site-packages\\sklearn\\utils\\deprecation.py:87: FutureWarning: Function plot_confusion_matrix is deprecated; This will be removed in v0.4.0. Please use scikitplot.metrics.plot_confusion_matrix instead.\n",
      "  warnings.warn(msg, category=FutureWarning)\n"
     ]
    },
    {
     "name": "stdout",
     "output_type": "stream",
     "text": [
      "Log loss: 1.302156676353831\n",
      "Accuracy: 0.42857142857142855\n"
     ]
    },
    {
     "name": "stderr",
     "output_type": "stream",
     "text": [
      "C:\\Users\\naifa\\AppData\\Local\\Programs\\Python\\Python39\\lib\\site-packages\\sklearn\\model_selection\\_split.py:676: UserWarning: The least populated class in y has only 3 members, which is less than n_splits=5.\n",
      "  warnings.warn(\n",
      "[Parallel(n_jobs=-1)]: Using backend LokyBackend with 4 concurrent workers.\n",
      "[Parallel(n_jobs=-1)]: Done   5 out of   5 | elapsed:   22.5s finished\n",
      "C:\\Users\\naifa\\AppData\\Local\\Programs\\Python\\Python39\\lib\\site-packages\\sklearn\\utils\\deprecation.py:87: FutureWarning: Function plot_confusion_matrix is deprecated; This will be removed in v0.4.0. Please use scikitplot.metrics.plot_confusion_matrix instead.\n",
      "  warnings.warn(msg, category=FutureWarning)\n"
     ]
    },
    {
     "name": "stdout",
     "output_type": "stream",
     "text": [
      "Log loss: 1.2045335274730296\n",
      "Accuracy: 0.46986607142857145\n"
     ]
    },
    {
     "name": "stderr",
     "output_type": "stream",
     "text": [
      "C:\\Users\\naifa\\AppData\\Local\\Programs\\Python\\Python39\\lib\\site-packages\\sklearn\\model_selection\\_split.py:676: UserWarning: The least populated class in y has only 3 members, which is less than n_splits=5.\n",
      "  warnings.warn(\n",
      "[Parallel(n_jobs=-1)]: Using backend LokyBackend with 4 concurrent workers.\n"
     ]
    }
   ],
   "source": [
    "mean_embedding_vectorizer = MeanEmbeddingVectorizer(word2vec)\n",
    "\n",
    "trainingText = list()\n",
    "testingText = list()\n",
    "\n",
    "for trainingFile in trainingFiles:\n",
    "    trainingFileText = open(\"preProcessedDataLine/\" + trainingFile, \"r\", encoding=\"latin1\")\n",
    "    l = trainingFileText.readline()\n",
    "    trainingText.append(word_extraction(l))\n",
    "    trainingFileText.close()\n",
    "\n",
    "for testingFile in testingFiles:\n",
    "    testingFileText = open(\"preProcessedDataLine/\" + testingFile, \"r\", encoding=\"latin1\")\n",
    "    l = testingFileText.readline()\n",
    "    testingText.append(word_extraction(l))\n",
    "    testingFileText.close()\n",
    "\n",
    "X_train = mean_embedding_vectorizer.fit_transform(trainingText)\n",
    "X_test = mean_embedding_vectorizer.fit_transform(testingText)\n",
    "\n",
    "y_train = pd.DataFrame([textScoreList[trainingFile] for trainingFile in trainingFiles], columns = [\"score\"])\n",
    "\n",
    "evaluate_features(X_train, y_train[\"score\"])\n",
    "evaluate_features(X_train, y_train[\"score\"],\n",
    "                  RandomForestClassifier(n_estimators=1000, max_depth=15, verbose=1))\n",
    "evaluate_features(X_train, y_train[\"score\"],\n",
    "                  XGBClassifier(max_depth=4,\n",
    "                                objective='multi:softprob',\n",
    "                                learning_rate=0.03333,\n",
    "                                )\n",
    "                 )                  "
   ]
  },
  {
   "cell_type": "code",
   "execution_count": 200,
   "metadata": {},
   "outputs": [],
   "source": [
    "# dataframe for training data : scores\n",
    "y_train.index = trainingFiles\n",
    "\n",
    "# dataframe for testing data : scores\n",
    "y_test = pd.DataFrame([textScoreList[testingFile] for testingFile in testingFiles], columns = [\"score\"])\n",
    "y_test.index = testingFiles"
   ]
  }
 ],
 "metadata": {
  "interpreter": {
   "hash": "f4ee4038f3ce1aaa32f3129e506029845ba1ff8163a79a51eba3ccd17ed5d0cd"
  },
  "kernelspec": {
   "display_name": "Python 3.9.7 64-bit",
   "name": "python3"
  },
  "language_info": {
   "codemirror_mode": {
    "name": "ipython",
    "version": 3
   },
   "file_extension": ".py",
   "mimetype": "text/x-python",
   "name": "python",
   "nbconvert_exporter": "python",
   "pygments_lexer": "ipython3",
   "version": "3.9.7"
  },
  "orig_nbformat": 4
 },
 "nbformat": 4,
 "nbformat_minor": 2
}
